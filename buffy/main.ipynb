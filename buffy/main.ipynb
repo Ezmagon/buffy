{
 "cells": [
  {
   "cell_type": "code",
   "execution_count": 2,
   "metadata": {
    "scrolled": true
   },
   "outputs": [
    {
     "ename": "ModuleNotFoundError",
     "evalue": "No module named 'buffy'",
     "output_type": "error",
     "traceback": [
      "\u001b[0;31m---------------------------------------------------------------------------\u001b[0m",
      "\u001b[0;31mModuleNotFoundError\u001b[0m                       Traceback (most recent call last)",
      "\u001b[0;32m<ipython-input-2-8315d20b18a0>\u001b[0m in \u001b[0;36m<module>\u001b[0;34m()\u001b[0m\n\u001b[1;32m      8\u001b[0m \u001b[0;32mfrom\u001b[0m \u001b[0mIPython\u001b[0m \u001b[0;32mimport\u001b[0m \u001b[0mdisplay\u001b[0m\u001b[0;34m\u001b[0m\u001b[0m\n\u001b[1;32m      9\u001b[0m \u001b[0;32mimport\u001b[0m \u001b[0mnumpy\u001b[0m \u001b[0;32mas\u001b[0m \u001b[0mnp\u001b[0m\u001b[0;34m\u001b[0m\u001b[0m\n\u001b[0;32m---> 10\u001b[0;31m \u001b[0;32mfrom\u001b[0m \u001b[0minput_window_and_choice_window\u001b[0m \u001b[0;32mimport\u001b[0m \u001b[0mWindows\u001b[0m\u001b[0;34m\u001b[0m\u001b[0m\n\u001b[0m\u001b[1;32m     11\u001b[0m \u001b[0;32mfrom\u001b[0m \u001b[0mcomputer_vision\u001b[0m \u001b[0;32mimport\u001b[0m \u001b[0mVisionForRobot\u001b[0m\u001b[0;34m\u001b[0m\u001b[0m\n\u001b[1;32m     12\u001b[0m \u001b[0;34m\u001b[0m\u001b[0m\n",
      "\u001b[0;32m~/PycharmProjects/buffy/buffy/input_window_and_choice_window.py\u001b[0m in \u001b[0;36m<module>\u001b[0;34m()\u001b[0m\n\u001b[1;32m      1\u001b[0m \u001b[0;32mfrom\u001b[0m \u001b[0mtkinter\u001b[0m \u001b[0;32mimport\u001b[0m \u001b[0;34m*\u001b[0m\u001b[0;34m\u001b[0m\u001b[0m\n\u001b[0;32m----> 2\u001b[0;31m \u001b[0;32mfrom\u001b[0m \u001b[0mbuffy\u001b[0m\u001b[0;34m.\u001b[0m\u001b[0mbuffer\u001b[0m \u001b[0;32mimport\u001b[0m \u001b[0mBuffer\u001b[0m\u001b[0;34m\u001b[0m\u001b[0m\n\u001b[0m\u001b[1;32m      3\u001b[0m \u001b[0;32mimport\u001b[0m \u001b[0msys\u001b[0m\u001b[0;34m\u001b[0m\u001b[0m\n\u001b[1;32m      4\u001b[0m \u001b[0;34m\u001b[0m\u001b[0m\n\u001b[1;32m      5\u001b[0m \u001b[0;32mclass\u001b[0m \u001b[0mWindows\u001b[0m\u001b[0;34m(\u001b[0m\u001b[0;34m)\u001b[0m\u001b[0;34m:\u001b[0m\u001b[0;34m\u001b[0m\u001b[0m\n",
      "\u001b[0;31mModuleNotFoundError\u001b[0m: No module named 'buffy'"
     ]
    }
   ],
   "source": [
    "import importlib\n",
    "from robot import Robot\n",
    "from buffer import Buffer\n",
    "from simulation import Simulation\n",
    "from sys import argv\n",
    "import matplotlib.pyplot as plt\n",
    "import time\n",
    "from IPython import display\n",
    "import numpy as np\n",
    "from input_window_and_choice_window import Windows\n",
    "from computer_vision import VisionForRobot\n",
    "\n",
    "\n",
    "def main(*argv):\n",
    "    win = Windows()\n",
    "    win.input_window()\n",
    "    win.choice_window()\n",
    "    goal = win.phGoal\n",
    "    choice = win.choice\n",
    "    if choice == \"standard\":\n",
    "        ph_sim = 7\n",
    "    elif choice == \"random\":\n",
    "        ph_sim = random.uniform(1, 14)\n",
    "    elif choice == \"computervision\":\n",
    "        v = VisionForRobot()\n",
    "        ph_sim = v.recognize_numbers()\n",
    "    print(\"Goal = \", goal, \"Choice = \", choice)\n",
    "\n",
    "    # Initialize the simulation\n",
    "    s = Simulation(pka=7, c=0.5, v=1, start=ph_sim)\n",
    "    # Initialize the buffer, using the simulation\n",
    "    b = Buffer(s, 4)\n",
    "\n",
    "    # Create buffy\n",
    "    buffy = Robot(goal, b)\n",
    "    # Let buffy do its thing\n",
    "    buffy.run()\n",
    "\n",
    "    return buffy\n",
    "\n",
    "\n",
    "buffy = main(9)\n",
    "\n",
    "data = buffy.read_mind()\n",
    "\n",
    "poly = buffy.b.s.poly\n",
    "\n",
    "real_data = np.array([[x,np.polyval(poly, x)] for x in np.arange(0.2, -1.0, -0.02)])\n",
    "\n",
    "\n",
    "\n",
    "plt.ion()\n",
    "\n",
    "fig, ax = plt.subplots()\n",
    "ax.plot(real_data[:,0],real_data[:,1], c='C1')\n",
    "lim = ax.get_xlim()\n",
    "ax.set_xlim(lim[1], lim[0])\n",
    "x = []\n",
    "y = []\n",
    "ax.hlines([buffy.b.s.start, buffy.g], lim[1], lim[0])\n",
    "for t, p in data:\n",
    "    x.append(t)\n",
    "    y.append(p)\n",
    "    display.clear_output(wait=True)\n",
    "    display.display(plt.gcf())\n",
    "    ax.plot(x, y, marker='o', c='C0')\n",
    "    time.sleep(0.5)\n",
    "ax.plot(data[:,0], data[:,1], marker='o', c='C0')\n",
    "plt.close()\n",
    "plt.show()\n",
    "acc = 100-(abs(data[:,1][-1]-buffy.g)/buffy.g)*100\n",
    "print(\"Goal reached, accuracy {}%\".format(acc))"
   ]
  }
 ],
 "metadata": {
  "kernelspec": {
   "display_name": "Python 3",
   "language": "python",
   "name": "python3"
  },
  "language_info": {
   "codemirror_mode": {
    "name": "ipython",
    "version": 3
   },
   "file_extension": ".py",
   "mimetype": "text/x-python",
   "name": "python",
   "nbconvert_exporter": "python",
   "pygments_lexer": "ipython3",
   "version": "3.6.6"
  }
 },
 "nbformat": 4,
 "nbformat_minor": 2
}
