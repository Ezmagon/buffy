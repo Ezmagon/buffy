{
 "cells": [
  {
   "cell_type": "code",
   "execution_count": 9,
   "metadata": {},
   "outputs": [
    {
     "data": {
      "text/plain": [
       "<module 'main' from '/home/matthijs/PycharmProjects/buffy/testSimulation/main.py'>"
      ]
     },
     "execution_count": 9,
     "metadata": {},
     "output_type": "execute_result"
    }
   ],
   "source": [
    "from importlib import reload\n",
    "import main\n",
    "reload(main)"
   ]
  },
  {
   "cell_type": "code",
   "execution_count": 10,
   "metadata": {},
   "outputs": [
    {
     "name": "stdout",
     "output_type": "stream",
     "text": [
      "3.4\n",
      "4.4\n",
      "4.9\n",
      "5.2\n",
      "5.8\n",
      "6.2\n",
      "6.8\n",
      "7.1\n",
      "7.8\n",
      "8.1\n",
      "8.799999999999999\n",
      "9.1\n",
      "9.4\n",
      "10.1\n",
      "9.2\n",
      "10.1\n",
      "9.299999999999999\n",
      "9.399999999999999\n",
      "10.2\n",
      "10.0\n",
      "Goal Achieved!\n"
     ]
    }
   ],
   "source": [
    "data = main.test(pH_goal=10)"
   ]
  },
  {
   "cell_type": "code",
   "execution_count": 14,
   "metadata": {},
   "outputs": [],
   "source": [
    "import matplotlib.pyplot as plt"
   ]
  },
  {
   "cell_type": "code",
   "execution_count": 16,
   "metadata": {},
   "outputs": [],
   "source": [
    "import numpy as np"
   ]
  },
  {
   "cell_type": "code",
   "execution_count": 17,
   "metadata": {},
   "outputs": [],
   "source": [
    "data = np.array(data)"
   ]
  },
  {
   "cell_type": "code",
   "execution_count": 20,
   "metadata": {},
   "outputs": [],
   "source": [
    "%matplotlib inline"
   ]
  },
  {
   "cell_type": "code",
   "execution_count": 39,
   "metadata": {},
   "outputs": [],
   "source": [
    "fit = np.polyfit(data[:,0], data[:,1], deg=1)\n",
    "def lin_fit(lim, fit):\n",
    "    a, b = fit\n",
    "    f = lambda x: a*x + b\n",
    "    return np.transpose(\n",
    "        np.array([\n",
    "            [*lim],\n",
    "            [f(x) for x in lim]\n",
    "        ])\n",
    "    )"
   ]
  },
  {
   "cell_type": "code",
   "execution_count": 40,
   "metadata": {},
   "outputs": [
    {
     "name": "stdout",
     "output_type": "stream",
     "text": [
      "[[-0.36985663  2.63014337]\n",
      " [ 7.56985663 10.56985663]]\n"
     ]
    },
    {
     "data": {
      "text/plain": [
       "[<matplotlib.lines.Line2D at 0x7fbd38cc87f0>]"
      ]
     },
     "execution_count": 40,
     "metadata": {},
     "output_type": "execute_result"
    },
    {
     "data": {
      "image/png": "[encoded data removed]",
      "text/plain": [
       "<Figure size 432x288 with 1 Axes>"
      ]
     },
     "metadata": {},
     "output_type": "display_data"
    }
   ],
   "source": [
    "fig, ax = plt.subplots()\n",
    "ax.scatter(data[:,0], data[:,1])\n",
    "lim = ax.get_xlim()\n",
    "fit_data = lin_fit(lim, fit)\n",
    "print(fit_data)\n",
    "plt.plot(fit_data[:,0], fit_data[:,1])"
   ]
  }
 ],
 "metadata": {
  "kernelspec": {
   "display_name": "Python 3",
   "language": "python",
   "name": "python3"
  },
  "language_info": {
   "codemirror_mode": {
    "name": "ipython",
    "version": 3
   },
   "file_extension": ".py",
   "mimetype": "text/x-python",
   "name": "python",
   "nbconvert_exporter": "python",
   "pygments_lexer": "ipython3",
   "version": "3.6.6"
  }
 },
 "nbformat": 4,
 "nbformat_minor": 1
}
